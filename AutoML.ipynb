{
  "nbformat": 4,
  "nbformat_minor": 0,
  "metadata": {
    "colab": {
      "provenance": []
    },
    "kernelspec": {
      "name": "python3",
      "display_name": "Python 3"
    },
    "language_info": {
      "name": "python"
    }
  },
  "cells": [
    {
      "cell_type": "code",
      "execution_count": null,
      "metadata": {
        "id": "k0H3_-ORAcs3"
      },
      "outputs": [],
      "source": [
        "#IMPORTING REQUIRED LIBRARIES\n",
        "\n",
        "import pandas as pd\n",
        "import numpy as np\n",
        "from sklearn.linear_model import LinearRegression\n",
        "from sklearn.ensemble import RandomForestRegressor\n",
        "from sklearn.metrics import mean_squared_error\n",
        "from sklearn import datasets\n",
        "from sklearn.model_selection import train_test_split, cross_val_score\n",
        "from sklearn import metrics"
      ]
    },
    {
      "cell_type": "code",
      "source": [
        "class autoML:\n",
        "  def __init__(self, data_path, target_column, model_type, metric_type):\n",
        "\n",
        "    self.data_path = data_path\n",
        "    self.target_column = target_column\n",
        "    self.model_type = model_type\n",
        "    self.metric_type = metric_type\n",
        "    self.X_train = None\n",
        "    self.X_test = None\n",
        "    self.y_train = None\n",
        "    self.y_test = None\n",
        "    self.RMSE = None\n",
        "    self.MAE = None\n",
        "    self.metrics = None"
      ],
      "metadata": {
        "id": "PGOI81y5BkHD"
      },
      "execution_count": null,
      "outputs": []
    },
    {
      "cell_type": "code",
      "source": [
        "#FUNCTION THAT PREPROCESSES THE DATASET\n",
        "\n",
        "\n",
        "def preprocessing(self):\n",
        "  df = pd.read_csv(self.data_path)\n",
        "  columns = df.columns\n",
        "  if self.target_column not in columns:\n",
        "    raise ValueError(\"Target column not presnet in given dataset.\")\n",
        "  X= df.drop([self.target_column], axis = 1)\n",
        "  Y = df[self.target_column]\n",
        "  X_train, X_test, Y_train, Y_test = train_test_split(X, Y, test_size=0.2, random_state= 42)\n",
        "  self.X_train = X_train\n",
        "  self.X_test = X_test\n",
        "  self.Y_train = Y_train\n",
        "  self.Y_test = Y_test"
      ],
      "metadata": {
        "id": "FeeaR6F7CrTu"
      },
      "execution_count": null,
      "outputs": []
    },
    {
      "cell_type": "code",
      "source": [
        "#FUNCTION THAT TRAINS THE MODEL\n",
        "\n",
        "def model(self):\n",
        "  model_types = ['linear_regression', 'random_forest']\n",
        "  if self.model_type not in model_types:\n",
        "    raise ValueError(f\"Enter a model type that is present in {model_types}\")\n",
        "  if self.model_type == \"linear_regression\":\n",
        "    lm = LinearRegression()\n",
        "    lm.fit(self.X_train, self.Y_train)\n",
        "    Y_prediction = lm.predict(self.X_test)\n",
        "    MAE = metrics.mean_absolute_error(self.Y_test, Y_prediction)\n",
        "    RSME = np.sqrt(metrics.mean_squared_error(self.Y_test, Y_prediction))\n",
        "  elif self.model_type == \"random_forest\":\n",
        "    Rf = RandomForestRegressor()\n",
        "    Rf.fit(self.X_train, self.Y_train)\n",
        "    Y_prediction = Rf.predict(self.X_test)\n",
        "    MAE = metrics.mean_absolute_error(self.Y_test, Y_prediction)\n",
        "    RSME = np.sqrt(metrics.mean_squared_error(self.Y_test, Y_prediction))\n"
      ],
      "metadata": {
        "id": "I9ZNPVPwEKMb"
      },
      "execution_count": null,
      "outputs": []
    },
    {
      "cell_type": "code",
      "source": [
        "#FUNCTION THAT EVALUATES THE MODEL\n",
        "\n",
        "def evaluate(self):\n",
        "  metric_types = [\"MAE\", \"RMSE\"]\n",
        "  if self.metric_type not in metric_types:\n",
        "      raise ValueError(f\"Enter a metric that is supported from the following list: {metric_types}\")\n",
        "\n",
        "  if self.metric_type == \"MAE\":\n",
        "      return f\"{self.metric_type}: {self.MAE}\"\n",
        "  return f\"{self.metric_type}: {self.RMSE}\""
      ],
      "metadata": {
        "id": "QNXnkutyGmcw"
      },
      "execution_count": null,
      "outputs": []
    },
    {
      "cell_type": "code",
      "source": [
        "def logModelInfo(self):\n",
        "  modelDetails = {\n",
        "      \"ModelType\": self.model_type,\n",
        "      \"MAE\": self.MAE,\n",
        "      \"RMSE\": self.RMSE\n",
        "  }\n",
        "  return modelDetails"
      ],
      "metadata": {
        "id": "jWrfK8r0FEsv"
      },
      "execution_count": null,
      "outputs": []
    }
  ]
}